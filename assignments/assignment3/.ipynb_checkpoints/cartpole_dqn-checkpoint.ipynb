{
 "cells": [
  {
   "cell_type": "markdown",
   "metadata": {},
   "source": [
    "### Imports"
   ]
  },
  {
   "cell_type": "code",
   "execution_count": 1,
   "metadata": {},
   "outputs": [
    {
     "name": "stderr",
     "output_type": "stream",
     "text": [
      "Using TensorFlow backend.\n"
     ]
    }
   ],
   "source": [
    "import gym\n",
    "import numpy as np\n",
    "import random\n",
    "import collections\n",
    "import keras\n",
    "from keras.layers import Dense\n",
    "from collections import deque"
   ]
  },
  {
   "cell_type": "markdown",
   "metadata": {},
   "source": [
    "#### Set up agent environment"
   ]
  },
  {
   "cell_type": "code",
   "execution_count": 20,
   "metadata": {
    "scrolled": true
   },
   "outputs": [],
   "source": [
    "def cartpole():\n",
    "    env = gym.make('CartPole-v0')\n",
    "    obs_space = env.observation_space.shape[0]\n",
    "    action_space = env.action_space.n\n",
    "    dqn = DQN(obs_space, action_space)\n",
    "    \n",
    "    for episode in range(20):\n",
    "        state = env.reset()\n",
    "        state.reshape([1, obs_space])\n",
    "\n",
    "        for time_step in range(100):\n",
    "            env.render()\n",
    "            \n",
    "            action = dqn.act(state)\n",
    "            \n",
    "            observation, reward, done, info = env.step(action)\n",
    "            \n",
    "            if done:\n",
    "                break"
   ]
  },
  {
   "cell_type": "markdown",
   "metadata": {},
   "source": [
    "#### Set up neural network architecture"
   ]
  },
  {
   "cell_type": "code",
   "execution_count": 21,
   "metadata": {},
   "outputs": [],
   "source": [
    "from collections import deque\n",
    "from keras.models import Sequential\n",
    "from keras.layers import Dense\n",
    "from keras.optimizers import Adam\n",
    "\n",
    "class DQN:\n",
    "    \n",
    "    def __init__(self, obs_space, action_space):\n",
    "        self.expl_rate = 1.0\n",
    "        self.action_space = action_space\n",
    "        \n",
    "        self.memory = deque(maxlen = 1000000)\n",
    "        \n",
    "        self.model = Sequential()\n",
    "        self.model.add(Dense(24, input_shape = (obs_space,), activation = 'relu'))\n",
    "        self.model.add(Dense(24, activation = 'relu'))\n",
    "        self.model.add(Dense(self.action_space, activation = 'linear'))\n",
    "        \n",
    "        self.model.compile(loss = 'mse', optimizer = Adam(lr = 0.001))\n",
    "        \n",
    "    def remember(self, state, action, reward, next_state, done):\n",
    "        self.memory.append(state, action, reward, next_state, done)\n",
    "        \n",
    "    def act(self, state):\n",
    "        if np.random.rand() < 1.0:\n",
    "            return random.randrange(self.action_space)\n",
    "        \n",
    "        q_vals = self.model.predict(state)\n",
    "        \n",
    "        print(q_vals)\n",
    "        \n",
    "cartpole()"
   ]
  },
  {
   "cell_type": "code",
   "execution_count": null,
   "metadata": {},
   "outputs": [],
   "source": []
  }
 ],
 "metadata": {
  "kernelspec": {
   "display_name": "Python 3",
   "language": "python",
   "name": "python3"
  },
  "language_info": {
   "codemirror_mode": {
    "name": "ipython",
    "version": 3
   },
   "file_extension": ".py",
   "mimetype": "text/x-python",
   "name": "python",
   "nbconvert_exporter": "python",
   "pygments_lexer": "ipython3",
   "version": "3.6.8"
  }
 },
 "nbformat": 4,
 "nbformat_minor": 2
}
