{
 "cells": [
  {
   "cell_type": "markdown",
   "metadata": {},
   "source": [
    "### Imports"
   ]
  },
  {
   "cell_type": "code",
   "execution_count": 1,
   "metadata": {},
   "outputs": [
    {
     "name": "stderr",
     "output_type": "stream",
     "text": [
      "Using TensorFlow backend.\n"
     ]
    }
   ],
   "source": [
    "import gym\n",
    "import numpy as np\n",
    "import random\n",
    "import collections\n",
    "import keras\n",
    "from keras.layers import Dense\n",
    "from collections import deque"
   ]
  },
  {
   "cell_type": "markdown",
   "metadata": {},
   "source": [
    "#### Set up agent environment"
   ]
  },
  {
   "cell_type": "code",
   "execution_count": 13,
   "metadata": {
    "scrolled": true
   },
   "outputs": [],
   "source": [
    "def cartpole():\n",
    "    env = gym.make('CartPole-v0')\n",
    "    obs_space = env.observation_space.shape[0]\n",
    "    action_space = env.action_space.n\n",
    "    dqn = DQN(obs_space, action_space)\n",
    "    \n",
    "    scores = []\n",
    "    \n",
    "    for episode in range(20):\n",
    "        state = env.reset()\n",
    "        state.reshape([1, obs_space])\n",
    "\n",
    "        time_step = 0\n",
    "        done = False\n",
    "        \n",
    "        while not done:\n",
    "            env.render()\n",
    "            \n",
    "            action = dqn.act(state)\n",
    "            \n",
    "            observation, reward, done, info = env.step(action)\n",
    "            \n",
    "            if done:\n",
    "                print('Terminal observation: ', observation)\n",
    "                \n",
    "            time_step += 1\n",
    "            \n",
    "            dqn.experience_replay()\n",
    "                \n",
    "        scores.append(time_step)\n",
    "        \n",
    "        mean_survival_time = np.mean(scores)\n",
    "        \n",
    "\n",
    "    print('Mean survival time: ', mean_survival_time)\n",
    "    \n",
    "    env.close()"
   ]
  },
  {
   "cell_type": "markdown",
   "metadata": {},
   "source": [
    "#### Set up neural network architecture"
   ]
  },
  {
   "cell_type": "code",
   "execution_count": 14,
   "metadata": {},
   "outputs": [
    {
     "name": "stdout",
     "output_type": "stream",
     "text": [
      "Terminal observation:  [-0.15445091 -1.16676791  0.21486145  1.92812715]\n",
      "Terminal observation:  [ 0.34298423  1.75281896 -0.23858616 -2.11812046]\n",
      "Terminal observation:  [-0.1349107  -1.74426555  0.21312319  2.80397714]\n",
      "Terminal observation:  [-0.12267835 -0.93037528  0.22015555  1.54864251]\n",
      "Terminal observation:  [ 0.02935208  0.17540226 -0.22117578 -0.92957897]\n",
      "Terminal observation:  [-0.15592059 -1.01631017  0.21710727  1.60227923]\n",
      "Terminal observation:  [-0.14638083 -0.43051265  0.21737366  0.98139304]\n",
      "Terminal observation:  [-0.16231649 -1.21589824  0.21154089  1.91307441]\n",
      "Terminal observation:  [ 0.14606858  0.56789618 -0.22507595 -1.26620572]\n",
      "Terminal observation:  [-0.09071081 -0.07059813  0.21378475  0.94686404]\n",
      "Terminal observation:  [-0.20862974 -1.73171872  0.24468498  2.4973602 ]\n",
      "Terminal observation:  [ 0.09639624  1.20249048 -0.22121407 -2.13467393]\n",
      "Terminal observation:  [-0.12410561 -0.57464313  0.22789974  1.37826173]\n",
      "Terminal observation:  [-0.161637   -0.83206061  0.22523456  1.43658503]\n",
      "Terminal observation:  [ 0.156846    1.5220418  -0.21141737 -2.24062358]\n",
      "Terminal observation:  [-0.06829177 -1.3514963   0.21179163  2.35087817]\n",
      "Terminal observation:  [-0.18894211 -1.32085967  0.22653285  1.90861363]\n",
      "Terminal observation:  [-0.16853902 -0.64459021  0.21309923  1.12772623]\n",
      "Terminal observation:  [-0.28730231 -1.96361077  0.24111705  2.31044562]\n",
      "Terminal observation:  [ 0.20265761  0.78831979 -0.21843813 -1.45952043]\n",
      "Mean survival time:  24.45\n"
     ]
    }
   ],
   "source": [
    "from collections import deque\n",
    "from keras.models import Sequential\n",
    "from keras.layers import Dense\n",
    "from keras.optimizers import Adam\n",
    "\n",
    "class DQN:\n",
    "    \n",
    "    def __init__(self, \n",
    "                 obs_space, \n",
    "                 action_space, \n",
    "                 lr = 0.001, \n",
    "                 gamma = 0.95, \n",
    "                 exploration_rate = 1.0, \n",
    "                 expl_min = 0.01,\n",
    "                 expl_decay = 0.995\n",
    "                ):\n",
    "        self.expl_rate = 1.0\n",
    "        self.action_space = action_space\n",
    "        \n",
    "        self.memory = deque(maxlen = 2000)\n",
    "        self.learning_rate = lr\n",
    "        self.gamma = gamma\n",
    "        self.epsilon = exploration_rate\n",
    "        self.epsilon_min = expl_min\n",
    "        self.epsilon_decay = expl_decay\n",
    "        \n",
    "        self.model = Sequential()\n",
    "        self.model.add(Dense(24, input_dim = obs_space, activation = 'relu'))\n",
    "        self.model.add(Dense(24, activation = 'relu'))\n",
    "        self.model.add(Dense(self.action_space, activation = 'linear'))\n",
    "        \n",
    "        self.model.compile(loss = 'mse', optimizer = Adam(lr = self.learning_rate))\n",
    "        \n",
    "    def remember(self, state, action, reward, next_state, done):\n",
    "        self.memory.append(state, action, reward, next_state, done)\n",
    "        \n",
    "    def act(self, state):\n",
    "        if np.random.rand() < self.epsilon:\n",
    "            return random.randrange(self.action_space)\n",
    "        \n",
    "        q_vals = self.model.predict(state)\n",
    "        \n",
    "        print(q_vals)\n",
    "        \n",
    "    def experience_replay(self):\n",
    "        if len(self.memory) < 20:\n",
    "            return\n",
    "        \n",
    "        batch = random.sample(self.memory, 20)\n",
    "        \n",
    "        for state, action, reward, state_next, done in batch:\n",
    "            q_update = reward\n",
    "            \n",
    "            if not done:\n",
    "                q_update = (reward + 0.95 * np.argmax(self.model.predict(state_next)[0]))\n",
    "                \n",
    "            q_values = self.model.predict(state)\n",
    "            \n",
    "            q_values[0][action] = q_update\n",
    "            \n",
    "            self.model.fit(state, q_values, verbose = 0)\n",
    "            \n",
    "            self.exlporation_rate *= 0.995\n",
    "            self.exploration_rate = np.argmax(self.exploration_rate, 0.01)\n",
    "            \n",
    "        \n",
    "cartpole()"
   ]
  },
  {
   "cell_type": "code",
   "execution_count": null,
   "metadata": {},
   "outputs": [],
   "source": []
  }
 ],
 "metadata": {
  "kernelspec": {
   "display_name": "Python 3",
   "language": "python",
   "name": "python3"
  },
  "language_info": {
   "codemirror_mode": {
    "name": "ipython",
    "version": 3
   },
   "file_extension": ".py",
   "mimetype": "text/x-python",
   "name": "python",
   "nbconvert_exporter": "python",
   "pygments_lexer": "ipython3",
   "version": "3.6.8"
  }
 },
 "nbformat": 4,
 "nbformat_minor": 2
}
