{
 "cells": [
  {
   "cell_type": "markdown",
   "metadata": {},
   "source": [
    "### Imports"
   ]
  },
  {
   "cell_type": "code",
   "execution_count": 2,
   "metadata": {},
   "outputs": [],
   "source": [
    "import gym\n",
    "import numpy as np\n",
    "import random\n",
    "import collections\n",
    "import keras\n",
    "from keras.layers import Dense\n",
    "from collections import deque"
   ]
  },
  {
   "cell_type": "markdown",
   "metadata": {},
   "source": [
    "#### Set up agent environment"
   ]
  },
  {
   "cell_type": "code",
   "execution_count": null,
   "metadata": {},
   "outputs": [],
   "source": [
    "def cartpole():\n",
    "    env = gym.make('CartPole-v0')\n",
    "    obs_space = env.observation_space.shape[0]\n",
    "    action_space = env.action_space.n\n",
    "\n",
    "    while True:\n",
    "        state = env.reset()"
   ]
  },
  {
   "cell_type": "markdown",
   "execution_count": null,
   "metadata": {},
   "outputs": [],
   "source": [
    "#### Set up neural network architecture"
   ]
  },
  {
   "cell_type": "code",
   "execution_count": null,
   "metadata": {},
   "outputs": [],
   "source": [
    "MEMORY_SIZE = 1000000\n",
    "\n",
    "class nn:\n",
    "\n",
    "    def __init__(self, obs_space, action_space):\n",
    "        self.exploration_rate = 1.0\n",
    "        self.action_space = action_space\n",
    "        self.memory = deque(maxlen = MEMORY_SIZE)\n",
    "\n",
    "        self.model = keras.models.Sequential()\n",
    "        self.model.add(Dense(24, input_shape = (obs_space))\n",
    "        self.model.add(Dense(24, activation = 'relu'))\n",
    "        self.model.add(Dense(self.action_space, activation = 'linear'))\n",
    "\n",
    "        self.model.compile(loss = 'mse', optimizer = keras.optimizers.Adam(lr = 0.001))\n",
    "\n",
    "    def remember(self, state, action, reweard, next_state, done):\n",
    "        self.memory.append((state, action, reward, next_state, done))"
   ]
  }
 ],
 "metadata": {
  "kernelspec": {
   "display_name": "Python 3",
   "language": "python",
   "name": "python3"
  },
  "language_info": {
   "codemirror_mode": {
    "name": "ipython",
    "version": 3
   },
   "file_extension": ".py",
   "mimetype": "text/x-python",
   "name": "python",
   "nbconvert_exporter": "python",
   "pygments_lexer": "ipython3",
   "version": "3.6.8"
  }
 },
 "nbformat": 4,
 "nbformat_minor": 2
}