{
 "cells": [
  {
   "cell_type": "markdown",
   "metadata": {},
   "source": [
    "### Imports"
   ]
  },
  {
   "cell_type": "code",
   "execution_count": 3,
   "metadata": {},
   "outputs": [],
   "source": [
    "import gym\n",
    "import numpy as np\n",
    "import random\n",
    "import collections\n",
    "import keras\n",
    "from keras.layers import Dense\n",
    "from collections import deque"
   ]
  },
  {
   "cell_type": "markdown",
   "metadata": {},
   "source": [
    "#### Set up agent environment"
   ]
  },
  {
   "cell_type": "code",
   "execution_count": 6,
   "metadata": {
    "scrolled": true
   },
   "outputs": [],
   "source": [
    "def cartpole():\n",
    "    env = gym.make('CartPole-v0')\n",
    "    obs_space = env.observation_space.shape[0]\n",
    "    action_space = env.action_space.n\n",
    "    dqn = DQN(obs_space, action_space)\n",
    "    \n",
    "    scores = []\n",
    "    \n",
    "    for episode in range(20):\n",
    "        state = env.reset()\n",
    "        state.reshape([1, obs_space])\n",
    "\n",
    "        time_step = 0\n",
    "        done = False\n",
    "        \n",
    "        while not done:\n",
    "            env.render()\n",
    "            \n",
    "            action = dqn.act(state)\n",
    "            \n",
    "            observation, reward, done, info = env.step(action)\n",
    "            \n",
    "            if done:\n",
    "                print('Terminal observation: ', observation)\n",
    "                \n",
    "            time_step += 1\n",
    "            \n",
    "            dqn.experience_replay()\n",
    "                \n",
    "        scores.append(time_step)\n",
    "        \n",
    "        mean_survival_time = np.mean(scores)\n",
    "        \n",
    "\n",
    "    print('Mean survival time: ', mean_survival_time)"
   ]
  },
  {
   "cell_type": "markdown",
   "metadata": {},
   "source": [
    "#### Set up neural network architecture"
   ]
  },
  {
   "cell_type": "code",
   "execution_count": 7,
   "metadata": {},
   "outputs": [
    {
     "name": "stdout",
     "output_type": "stream",
     "text": [
      "Terminal observation:  [ 0.10106356  0.54746514 -0.22854109 -1.17852968]\n",
      "Terminal observation:  [-0.12715561 -0.63176278  0.22012085  1.22809397]\n",
      "Terminal observation:  [-0.29115897 -0.38980808  0.21511627  0.47275644]\n",
      "Terminal observation:  [ 1.05375607  1.49469762 -0.21909243 -0.9542289 ]\n",
      "Terminal observation:  [ 0.19121749  0.81944281 -0.21390629 -1.42301948]\n",
      "Terminal observation:  [-0.0115392  -0.44228085  0.21215357  1.16452615]\n",
      "Terminal observation:  [ 0.17693531  1.01687104 -0.21190343 -1.67106457]\n",
      "Terminal observation:  [-0.15432944 -1.18811534  0.25120551  1.96506537]\n",
      "Terminal observation:  [ 0.19531793  0.63532516 -0.21876429 -1.15718864]\n",
      "Terminal observation:  [-0.38401793 -0.53138361 -0.21174535 -0.53685441]\n",
      "Terminal observation:  [-0.31364004 -1.98272842  0.24765841  2.62378657]\n",
      "Terminal observation:  [ 0.17991867  0.82994547 -0.21375143 -1.32183541]\n",
      "Terminal observation:  [-0.05027574 -0.57364447  0.2096049   1.34532229]\n",
      "Terminal observation:  [ 0.12945055  0.60244692 -0.2286211  -1.28377989]\n",
      "Terminal observation:  [ 0.07920627 -0.01867351 -0.22379573 -0.60978157]\n",
      "Terminal observation:  [-0.11364788 -0.55765806  0.22777695  1.31498532]\n",
      "Terminal observation:  [-0.1313531  -1.21226266  0.24122314  2.15099215]\n",
      "Terminal observation:  [-0.11995191 -0.39896827  0.21096293  1.04156591]\n",
      "Terminal observation:  [-0.21107051 -1.1462691   0.21829513  1.74942321]\n",
      "Terminal observation:  [ 0.05190793  0.65476805 -0.22619388 -1.41803433]\n",
      "Mean survival time:  24.25\n"
     ]
    }
   ],
   "source": [
    "from collections import deque\n",
    "from keras.models import Sequential\n",
    "from keras.layers import Dense\n",
    "from keras.optimizers import Adam\n",
    "\n",
    "class DQN:\n",
    "    \n",
    "    def __init__(self, obs_space, action_space):\n",
    "        self.expl_rate = 1.0\n",
    "        self.action_space = action_space\n",
    "        \n",
    "        self.memory = deque(maxlen = 1000000)\n",
    "        \n",
    "        self.model = Sequential()\n",
    "        self.model.add(Dense(24, input_shape = (obs_space,), activation = 'relu'))\n",
    "        self.model.add(Dense(24, activation = 'relu'))\n",
    "        self.model.add(Dense(self.action_space, activation = 'linear'))\n",
    "        \n",
    "        self.model.compile(loss = 'mse', optimizer = Adam(lr = 0.001))\n",
    "        \n",
    "    def remember(self, state, action, reward, next_state, done):\n",
    "        self.memory.append(state, action, reward, next_state, done)\n",
    "        \n",
    "    def act(self, state):\n",
    "        if np.random.rand() < 1.0:\n",
    "            return random.randrange(self.action_space)\n",
    "        \n",
    "        q_vals = self.model.predict(state)\n",
    "        \n",
    "        print(q_vals)\n",
    "        \n",
    "    def experience_replay(self):\n",
    "        if len(self.memory) < 20:\n",
    "            return\n",
    "        \n",
    "        batch = random.sample(self.memory, 20)\n",
    "        \n",
    "        for state, action, reward, state_next, done in batch:\n",
    "            q_update = reward\n",
    "            \n",
    "            if not done:\n",
    "                q_update = (reward + 0.95 * np.argmax(self.model.predict(state_next)[0]))\n",
    "                \n",
    "            q_values = self.model.predict(state)\n",
    "            \n",
    "            q_values[0][action] = q_update\n",
    "            \n",
    "            self.model.fit(state, q_values, verbose = 0)\n",
    "            \n",
    "            self.exlporation_rate *= 0.995\n",
    "            self.exploration_rate = np.argmax(self.exploration_rate, 0.01)\n",
    "            \n",
    "        \n",
    "cartpole()"
   ]
  },
  {
   "cell_type": "code",
   "execution_count": null,
   "metadata": {},
   "outputs": [],
   "source": []
  }
 ],
 "metadata": {
  "kernelspec": {
   "display_name": "Python 3",
   "language": "python",
   "name": "python3"
  },
  "language_info": {
   "codemirror_mode": {
    "name": "ipython",
    "version": 3
   },
   "file_extension": ".py",
   "mimetype": "text/x-python",
   "name": "python",
   "nbconvert_exporter": "python",
   "pygments_lexer": "ipython3",
   "version": "3.6.8"
  }
 },
 "nbformat": 4,
 "nbformat_minor": 2
}
